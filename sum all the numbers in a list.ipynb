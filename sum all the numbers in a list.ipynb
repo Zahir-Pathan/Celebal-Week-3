{
 "cells": [
  {
   "cell_type": "code",
   "execution_count": 6,
   "id": "65f9ba25",
   "metadata": {},
   "outputs": [
    {
     "name": "stdout",
     "output_type": "stream",
     "text": [
      "5\n",
      "1\n",
      "2\n",
      "3\n",
      "4\n",
      "5\n",
      "15\n"
     ]
    }
   ],
   "source": [
    "lis=[]\n",
    "Num=int(input())\n",
    "count=0\n",
    "for ele in range(Num):\n",
    "    temp=int( input())\n",
    "    lis.append(temp)\n",
    "\n",
    "print(sum(lis))\n"
   ]
  },
  {
   "cell_type": "code",
   "execution_count": null,
   "id": "ab05363a",
   "metadata": {},
   "outputs": [],
   "source": []
  },
  {
   "cell_type": "code",
   "execution_count": null,
   "id": "432d2d73",
   "metadata": {},
   "outputs": [],
   "source": []
  }
 ],
 "metadata": {
  "kernelspec": {
   "display_name": "Python 3",
   "language": "python",
   "name": "python3"
  },
  "language_info": {
   "codemirror_mode": {
    "name": "ipython",
    "version": 3
   },
   "file_extension": ".py",
   "mimetype": "text/x-python",
   "name": "python",
   "nbconvert_exporter": "python",
   "pygments_lexer": "ipython3",
   "version": "3.8.8"
  }
 },
 "nbformat": 4,
 "nbformat_minor": 5
}
