{
  "nbformat": 4,
  "nbformat_minor": 0,
  "metadata": {
    "colab": {
      "name": "Week 3 Task 1 .ipynb",
      "provenance": []
    },
    "kernelspec": {
      "name": "python3",
      "display_name": "Python 3"
    },
    "language_info": {
      "name": "python"
    }
  },
  "cells": [
    {
      "cell_type": "markdown",
      "source": [
        "***Indexing in List***"
      ],
      "metadata": {
        "id": "o1oM2IjIzo7x"
      }
    },
    {
      "cell_type": "code",
      "source": [
        "list1=[\"zahir\",\"riyaj\",\"pathan\"]\n",
        "for ele in range(0,3):\n",
        "  print(list1[ele])"
      ],
      "metadata": {
        "colab": {
          "base_uri": "https://localhost:8080/"
        },
        "id": "tCN_XzhtzxzF",
        "outputId": "69fe9dcc-536e-40e8-ebed-9ba5c2f7fa57"
      },
      "execution_count": 7,
      "outputs": [
        {
          "output_type": "stream",
          "name": "stdout",
          "text": [
            "zahir\n",
            "riyaj\n",
            "pathan\n"
          ]
        }
      ]
    },
    {
      "cell_type": "markdown",
      "source": [
        "***Negative Indexing in Tuple***"
      ],
      "metadata": {
        "id": "UZd8Mg-H3Hvc"
      }
    },
    {
      "cell_type": "code",
      "source": [
        "names=(\"anushka\",\"yashika\",\"dipti\",\"hritika\")\n",
        "print(names[-1])"
      ],
      "metadata": {
        "colab": {
          "base_uri": "https://localhost:8080/"
        },
        "id": "CFxwDA2w3bVE",
        "outputId": "1e86386a-a119-4f85-dc5f-d4d926d63968"
      },
      "execution_count": 47,
      "outputs": [
        {
          "output_type": "stream",
          "name": "stdout",
          "text": [
            "hritika\n"
          ]
        }
      ]
    },
    {
      "cell_type": "markdown",
      "source": [
        "***Membership test in list***"
      ],
      "metadata": {
        "id": "hXHRh5D3EKpR"
      }
    },
    {
      "cell_type": "code",
      "source": [
        "var=\"Anushka\"\n",
        "list=[\"Hritika\",\"Dipti\",\"Anushka\",\"Yashika\",\"Sakshi\",\"Prajakta\"]\n",
        "print(var in list)        #in\n",
        "print(\"Yashika\" not in list)      #not in\n",
        "print(var not in list)    #not in"
      ],
      "metadata": {
        "colab": {
          "base_uri": "https://localhost:8080/"
        },
        "id": "GwoMO0cWEVyo",
        "outputId": "724202b9-40d8-4e7a-f981-e1ae2a1a9eee"
      },
      "execution_count": 52,
      "outputs": [
        {
          "output_type": "stream",
          "name": "stdout",
          "text": [
            "True\n",
            "False\n",
            "False\n"
          ]
        }
      ]
    },
    {
      "cell_type": "markdown",
      "source": [
        "***Membership Test in Tuple***"
      ],
      "metadata": {
        "id": "sOH3j0PIFRQP"
      }
    },
    {
      "cell_type": "code",
      "source": [
        "var=\"Anushka\"\n",
        "tuple=(\"Hritika\",\"Dipti\",\"Anushka\",\"Yashika\",\"Sakshi\",\"Prajakta\")\n",
        "print(var in tuple)        #in\n",
        "print(\"Yashika\" not in tuple)      #not in\n",
        "print(var not in tuple)    #not in"
      ],
      "metadata": {
        "colab": {
          "base_uri": "https://localhost:8080/"
        },
        "id": "l6al1RNQF62L",
        "outputId": "f448d89e-cae1-4552-890f-4cb2b0f4318b"
      },
      "execution_count": 54,
      "outputs": [
        {
          "output_type": "stream",
          "name": "stdout",
          "text": [
            "True\n",
            "False\n",
            "False\n"
          ]
        }
      ]
    },
    {
      "cell_type": "markdown",
      "source": [
        "***Membership test in set***"
      ],
      "metadata": {
        "id": "yaV0qrEuGVcy"
      }
    },
    {
      "cell_type": "code",
      "source": [
        "set=\"Anushka\"\n",
        "set={\"Hritika\",\"Dipti\",\"Anushka\",\"Yashika\",\"Sakshi\",\"Prajakta\"}\n",
        "print(var in set)        #in\n",
        "print(\"Yashika\" not in set)      #not in\n",
        "print(var not in set)    #not in"
      ],
      "metadata": {
        "colab": {
          "base_uri": "https://localhost:8080/"
        },
        "id": "TYu0R6tzGniT",
        "outputId": "e008e153-5643-4de2-fd5b-5e6e99124b58"
      },
      "execution_count": 56,
      "outputs": [
        {
          "output_type": "stream",
          "name": "stdout",
          "text": [
            "True\n",
            "False\n",
            "False\n"
          ]
        }
      ]
    },
    {
      "cell_type": "markdown",
      "source": [
        "***Membership test in dictionary***"
      ],
      "metadata": {
        "id": "aLuGy5svG0Gd"
      }
    },
    {
      "cell_type": "code",
      "source": [
        "var=\"Anushka\"\n",
        "dict1={\"Hritika\",\"Dipti\",\"Anushka\",\"Yashika\",\"Sakshi\",\"Prajakta\"}\n",
        "dict2={\"these\",\"are\",\"female\",\"friends\",\"of\",\"school\",\"time\"}\n",
        "dict3={\"Anushka\",\"was\",\"my\",\"best\",\"friend\"}\n",
        "print(var in dict3)        #in\n",
        "print(\"Sakshi\" not in dict1)      #not in\n",
        "print(var not in dict2)    #not in"
      ],
      "metadata": {
        "colab": {
          "base_uri": "https://localhost:8080/"
        },
        "id": "B2QdMZ9NG6qq",
        "outputId": "335b9a74-436e-45ff-f93d-b6958cd22214"
      },
      "execution_count": 61,
      "outputs": [
        {
          "output_type": "stream",
          "name": "stdout",
          "text": [
            "True\n",
            "False\n",
            "True\n"
          ]
        }
      ]
    },
    {
      "cell_type": "markdown",
      "source": [
        "***Iterating loop in Tuple***"
      ],
      "metadata": {
        "id": "QnCiPp9xIjyw"
      }
    },
    {
      "cell_type": "code",
      "source": [
        "tuple=(\"Hritika\",\"Dipti\",\"Anushka\",\"Yashika\",\"Sakshi\",\"Prajakta\")\n",
        "print(\"This the list of my female friends of school time\")\n",
        "for ele in tuple:\n",
        "  print(ele)"
      ],
      "metadata": {
        "colab": {
          "base_uri": "https://localhost:8080/"
        },
        "id": "im0PVoFPIpQ9",
        "outputId": "0f19c155-32c1-46da-c91d-7c85e41fd010"
      },
      "execution_count": 62,
      "outputs": [
        {
          "output_type": "stream",
          "name": "stdout",
          "text": [
            "This the list of my female friends of school time\n",
            "Hritika\n",
            "Dipti\n",
            "Anushka\n",
            "Yashika\n",
            "Sakshi\n",
            "Prajakta\n"
          ]
        }
      ]
    },
    {
      "cell_type": "markdown",
      "source": [
        "***Iterating loop in List***"
      ],
      "metadata": {
        "id": "HZc2biFaJG5h"
      }
    },
    {
      "cell_type": "code",
      "source": [
        "list=[]\n",
        "a=int(input())\n",
        "c=0\n",
        "for ele in range(a):\n",
        "  temp=int(input())\n",
        "  list.append(temp)\n",
        "  print(list)\n"
      ],
      "metadata": {
        "colab": {
          "base_uri": "https://localhost:8080/"
        },
        "id": "pWBR_nmYJMoz",
        "outputId": "046bd157-9a73-424e-8200-a42743d64aaf"
      },
      "execution_count": 68,
      "outputs": [
        {
          "output_type": "stream",
          "name": "stdout",
          "text": [
            "3\n",
            "2\n",
            "[2]\n",
            "5\n",
            "[2, 5]\n",
            "6\n",
            "[2, 5, 6]\n"
          ]
        }
      ]
    },
    {
      "cell_type": "markdown",
      "source": [
        "***Iterating loop in Set***"
      ],
      "metadata": {
        "id": "i41s3MLoNEZt"
      }
    },
    {
      "cell_type": "code",
      "source": [
        "set={\"Hritika\",\"Dipti\",\"Anushka\",\"Yashika\",\"Sakshi\",\"Prajakta\"}\n",
        "for x in set:\n",
        "  print(x)"
      ],
      "metadata": {
        "colab": {
          "base_uri": "https://localhost:8080/"
        },
        "id": "U7ySCgIqNNAY",
        "outputId": "b6baf6c2-f675-4d28-d4c9-e233186fc988"
      },
      "execution_count": 69,
      "outputs": [
        {
          "output_type": "stream",
          "name": "stdout",
          "text": [
            "Sakshi\n",
            "Yashika\n",
            "Hritika\n",
            "Dipti\n",
            "Anushka\n",
            "Prajakta\n"
          ]
        }
      ]
    },
    {
      "cell_type": "markdown",
      "source": [
        "***Iterating loop in Dictionary***"
      ],
      "metadata": {
        "id": "S4oW6oEKNh2A"
      }
    },
    {
      "cell_type": "code",
      "source": [
        "set={\"Hritika\":\"1\",\"Dipti\":\"2\",\"Anushka\":\"3\",\"Yashika\":\"4\",\"Sakshi\":\"5\",\"Prajakta\":\"6\"}\n",
        "for x in set:\n",
        "  print(x)"
      ],
      "metadata": {
        "colab": {
          "base_uri": "https://localhost:8080/"
        },
        "id": "tGWKyhKXNnIA",
        "outputId": "6c02aae2-49e0-46a2-a386-9dc0d076e8d8"
      },
      "execution_count": 70,
      "outputs": [
        {
          "output_type": "stream",
          "name": "stdout",
          "text": [
            "Hritika\n",
            "Dipti\n",
            "Anushka\n",
            "Yashika\n",
            "Sakshi\n",
            "Prajakta\n"
          ]
        }
      ]
    }
  ]
}