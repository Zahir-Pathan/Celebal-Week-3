{
  "nbformat": 4,
  "nbformat_minor": 0,
  "metadata": {
    "colab": {
      "name": "built in functions.ipynb",
      "provenance": []
    },
    "kernelspec": {
      "name": "python3",
      "display_name": "Python 3"
    },
    "language_info": {
      "name": "python"
    }
  },
  "cells": [
    {
      "cell_type": "code",
      "execution_count": 1,
      "metadata": {
        "colab": {
          "base_uri": "https://localhost:8080/"
        },
        "id": "Qg0lnHY1Oj0d",
        "outputId": "f17fc61a-990b-4f16-e3fd-4ddb26902175"
      },
      "outputs": [
        {
          "output_type": "stream",
          "name": "stdout",
          "text": [
            "True\n",
            "False\n"
          ]
        }
      ],
      "source": [
        "z = bool(1)               #bool\n",
        "print(z)\n",
        "z1 = bool(0)\n",
        "print(z1)\n",
        "\n"
      ]
    },
    {
      "cell_type": "code",
      "source": [
        "z = bytearray(8)          #bytearray\n",
        "print(z)"
      ],
      "metadata": {
        "colab": {
          "base_uri": "https://localhost:8080/"
        },
        "id": "DzcDlQPsPBDJ",
        "outputId": "521510d2-b4fb-45a4-fbaf-6d791173687c"
      },
      "execution_count": 3,
      "outputs": [
        {
          "output_type": "stream",
          "name": "stdout",
          "text": [
            "bytearray(b'\\x00\\x00\\x00\\x00\\x00\\x00\\x00\\x00')\n"
          ]
        }
      ]
    },
    {
      "cell_type": "code",
      "source": [
        "z = chr(45)               #chr\n",
        "print(z)\n",
        "z = chr(43)\n",
        "print(z)"
      ],
      "metadata": {
        "colab": {
          "base_uri": "https://localhost:8080/"
        },
        "id": "Hw_3Hew7PPce",
        "outputId": "a7ba06a5-50b6-4f7b-b681-d0834c428d8c"
      },
      "execution_count": 5,
      "outputs": [
        {
          "output_type": "stream",
          "name": "stdout",
          "text": [
            "-\n",
            "+\n"
          ]
        }
      ]
    },
    {
      "cell_type": "code",
      "source": [
        "z = ('I', 'am', 'Zahir')   #enumerate\n",
        "z1 = enumerate(z)\n",
        "\n",
        "print(list(z1))"
      ],
      "metadata": {
        "colab": {
          "base_uri": "https://localhost:8080/"
        },
        "id": "rt_FgKO9PdtM",
        "outputId": "f9189b48-96f8-4b0e-e6ae-097e405d5048"
      },
      "execution_count": 7,
      "outputs": [
        {
          "output_type": "stream",
          "name": "stdout",
          "text": [
            "[(0, 'I'), (1, 'am'), (2, 'Zahir')]\n"
          ]
        }
      ]
    },
    {
      "cell_type": "code",
      "source": [
        "z = ['I', 'am', 'Zahir']    #frozenset\n",
        "z1 = frozenset(z)\n",
        "print(z1)"
      ],
      "metadata": {
        "colab": {
          "base_uri": "https://localhost:8080/"
        },
        "id": "PvYNHTitPulX",
        "outputId": "50dfcc7d-e732-4271-a2a6-2c61dc862d6b"
      },
      "execution_count": 9,
      "outputs": [
        {
          "output_type": "stream",
          "name": "stdout",
          "text": [
            "frozenset({'Zahir', 'I', 'am'})\n"
          ]
        }
      ]
    },
    {
      "cell_type": "code",
      "source": [
        "z = pow(5, 3)               #pow\n",
        "print(z)\n",
        "\n"
      ],
      "metadata": {
        "colab": {
          "base_uri": "https://localhost:8080/"
        },
        "id": "FyRTDOwuP65l",
        "outputId": "98e0ce0e-75c9-4488-fccf-f0655a829448"
      },
      "execution_count": 12,
      "outputs": [
        {
          "output_type": "stream",
          "name": "stdout",
          "text": [
            "125\n"
          ]
        }
      ]
    },
    {
      "cell_type": "code",
      "source": [
        "z = (1, 2, 3, 4, 5)         #sum\n",
        "z1= sum(z)\n",
        "print(z1)\n",
        "\n"
      ],
      "metadata": {
        "colab": {
          "base_uri": "https://localhost:8080/"
        },
        "id": "Lq4gZfWZQOwx",
        "outputId": "d1d09562-c59c-478a-a1f8-7a2d534e1462"
      },
      "execution_count": 13,
      "outputs": [
        {
          "output_type": "stream",
          "name": "stdout",
          "text": [
            "15\n"
          ]
        }
      ]
    },
    {
      "cell_type": "code",
      "source": [
        "z = (\"k\", \"p\", \"i\", \"t\", \"g\", \"q\", \"h\", \"i\")\n",
        "z1 = sorted(z)              #sorted\n",
        "print(z1)"
      ],
      "metadata": {
        "colab": {
          "base_uri": "https://localhost:8080/"
        },
        "id": "kBWNqAu_QWBv",
        "outputId": "b5fac4a0-387c-4fcf-d485-9990691de5a1"
      },
      "execution_count": 14,
      "outputs": [
        {
          "output_type": "stream",
          "name": "stdout",
          "text": [
            "['g', 'h', 'i', 'i', 'k', 'p', 'q', 't']\n"
          ]
        }
      ]
    },
    {
      "cell_type": "code",
      "source": [
        "z1 = abs(4.456)               #abs\n",
        "print(z1)\n",
        "var= abs(5+2j)\n",
        "print(var)"
      ],
      "metadata": {
        "colab": {
          "base_uri": "https://localhost:8080/"
        },
        "id": "c_QwFE9RQo80",
        "outputId": "1e7fe32d-68f4-46b1-869a-b076ba17aa63"
      },
      "execution_count": 19,
      "outputs": [
        {
          "output_type": "stream",
          "name": "stdout",
          "text": [
            "4.456\n",
            "5.385164807134504\n"
          ]
        }
      ]
    },
    {
      "cell_type": "code",
      "source": [
        "a = (\"Anushka\", \"Hritika\", \"Yashika\")   #zip\n",
        "b = (\"Dipti\", \"Sakshi\", \"Prajakta\")\n",
        "\n",
        "friends = zip(a, b)\n",
        "print(tuple(friends))"
      ],
      "metadata": {
        "colab": {
          "base_uri": "https://localhost:8080/"
        },
        "id": "B0XSExdcRIG-",
        "outputId": "ea2e02ff-a332-4350-8368-9635b4069a25"
      },
      "execution_count": 20,
      "outputs": [
        {
          "output_type": "stream",
          "name": "stdout",
          "text": [
            "(('Anushka', 'Dipti'), ('Hritika', 'Sakshi'), ('Yashika', 'Prajakta'))\n"
          ]
        }
      ]
    }
  ]
}